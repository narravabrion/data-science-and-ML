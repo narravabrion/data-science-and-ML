{
 "cells": [
  {
   "cell_type": "markdown",
   "id": "f5935f5e-266a-42fe-bb2f-91acb8110278",
   "metadata": {},
   "source": [
    "# K-Means To Categorize Customers According To Shopping Trends"
   ]
  },
  {
   "cell_type": "code",
   "execution_count": 1,
   "id": "595ec99b-22c7-4e84-8cba-d3a50468a3e6",
   "metadata": {},
   "outputs": [],
   "source": [
    "import pandas as pd\n",
    "import matplotlib.pyplot as plt\n",
    "import seaborn as sns\n",
    "import numpy as np"
   ]
  },
  {
   "cell_type": "code",
   "execution_count": 2,
   "id": "46b5a4a7-96c8-4c5d-a504-95fd39acfc3f",
   "metadata": {},
   "outputs": [
    {
     "data": {
      "text/html": [
       "<div>\n",
       "<style scoped>\n",
       "    .dataframe tbody tr th:only-of-type {\n",
       "        vertical-align: middle;\n",
       "    }\n",
       "\n",
       "    .dataframe tbody tr th {\n",
       "        vertical-align: top;\n",
       "    }\n",
       "\n",
       "    .dataframe thead th {\n",
       "        text-align: right;\n",
       "    }\n",
       "</style>\n",
       "<table border=\"1\" class=\"dataframe\">\n",
       "  <thead>\n",
       "    <tr style=\"text-align: right;\">\n",
       "      <th></th>\n",
       "      <th>InvoiceNo</th>\n",
       "      <th>StockCode</th>\n",
       "      <th>Description</th>\n",
       "      <th>Quantity</th>\n",
       "      <th>InvoiceDate</th>\n",
       "      <th>UnitPrice</th>\n",
       "      <th>CustomerID</th>\n",
       "      <th>Country</th>\n",
       "    </tr>\n",
       "  </thead>\n",
       "  <tbody>\n",
       "    <tr>\n",
       "      <th>0</th>\n",
       "      <td>536365</td>\n",
       "      <td>85123A</td>\n",
       "      <td>WHITE HANGING HEART T-LIGHT HOLDER</td>\n",
       "      <td>6</td>\n",
       "      <td>01-12-2010 08:26</td>\n",
       "      <td>2.55</td>\n",
       "      <td>17850.0</td>\n",
       "      <td>United Kingdom</td>\n",
       "    </tr>\n",
       "    <tr>\n",
       "      <th>1</th>\n",
       "      <td>536365</td>\n",
       "      <td>71053</td>\n",
       "      <td>WHITE METAL LANTERN</td>\n",
       "      <td>6</td>\n",
       "      <td>01-12-2010 08:26</td>\n",
       "      <td>3.39</td>\n",
       "      <td>17850.0</td>\n",
       "      <td>United Kingdom</td>\n",
       "    </tr>\n",
       "    <tr>\n",
       "      <th>2</th>\n",
       "      <td>536365</td>\n",
       "      <td>84406B</td>\n",
       "      <td>CREAM CUPID HEARTS COAT HANGER</td>\n",
       "      <td>8</td>\n",
       "      <td>01-12-2010 08:26</td>\n",
       "      <td>2.75</td>\n",
       "      <td>17850.0</td>\n",
       "      <td>United Kingdom</td>\n",
       "    </tr>\n",
       "    <tr>\n",
       "      <th>3</th>\n",
       "      <td>536365</td>\n",
       "      <td>84029G</td>\n",
       "      <td>KNITTED UNION FLAG HOT WATER BOTTLE</td>\n",
       "      <td>6</td>\n",
       "      <td>01-12-2010 08:26</td>\n",
       "      <td>3.39</td>\n",
       "      <td>17850.0</td>\n",
       "      <td>United Kingdom</td>\n",
       "    </tr>\n",
       "    <tr>\n",
       "      <th>4</th>\n",
       "      <td>536365</td>\n",
       "      <td>84029E</td>\n",
       "      <td>RED WOOLLY HOTTIE WHITE HEART.</td>\n",
       "      <td>6</td>\n",
       "      <td>01-12-2010 08:26</td>\n",
       "      <td>3.39</td>\n",
       "      <td>17850.0</td>\n",
       "      <td>United Kingdom</td>\n",
       "    </tr>\n",
       "  </tbody>\n",
       "</table>\n",
       "</div>"
      ],
      "text/plain": [
       "  InvoiceNo StockCode                          Description  Quantity  \\\n",
       "0    536365    85123A   WHITE HANGING HEART T-LIGHT HOLDER         6   \n",
       "1    536365     71053                  WHITE METAL LANTERN         6   \n",
       "2    536365    84406B       CREAM CUPID HEARTS COAT HANGER         8   \n",
       "3    536365    84029G  KNITTED UNION FLAG HOT WATER BOTTLE         6   \n",
       "4    536365    84029E       RED WOOLLY HOTTIE WHITE HEART.         6   \n",
       "\n",
       "        InvoiceDate  UnitPrice  CustomerID         Country  \n",
       "0  01-12-2010 08:26       2.55     17850.0  United Kingdom  \n",
       "1  01-12-2010 08:26       3.39     17850.0  United Kingdom  \n",
       "2  01-12-2010 08:26       2.75     17850.0  United Kingdom  \n",
       "3  01-12-2010 08:26       3.39     17850.0  United Kingdom  \n",
       "4  01-12-2010 08:26       3.39     17850.0  United Kingdom  "
      ]
     },
     "execution_count": 2,
     "metadata": {},
     "output_type": "execute_result"
    }
   ],
   "source": [
    "cust_df = pd.read_csv('OnlineRetail.csv', sep=',', encoding='iso-8859-1')\n",
    "cust_df.head()"
   ]
  },
  {
   "cell_type": "code",
   "execution_count": 3,
   "id": "1dc2e33d-f3b4-4333-9dc4-bc7f2a893093",
   "metadata": {},
   "outputs": [
    {
     "name": "stdout",
     "output_type": "stream",
     "text": [
      "<class 'pandas.core.frame.DataFrame'>\n",
      "RangeIndex: 541909 entries, 0 to 541908\n",
      "Data columns (total 8 columns):\n",
      " #   Column       Non-Null Count   Dtype  \n",
      "---  ------       --------------   -----  \n",
      " 0   InvoiceNo    541909 non-null  object \n",
      " 1   StockCode    541909 non-null  object \n",
      " 2   Description  540455 non-null  object \n",
      " 3   Quantity     541909 non-null  int64  \n",
      " 4   InvoiceDate  541909 non-null  object \n",
      " 5   UnitPrice    541909 non-null  float64\n",
      " 6   CustomerID   406829 non-null  float64\n",
      " 7   Country      541909 non-null  object \n",
      "dtypes: float64(2), int64(1), object(5)\n",
      "memory usage: 33.1+ MB\n"
     ]
    }
   ],
   "source": [
    "cust_df.info()"
   ]
  },
  {
   "cell_type": "code",
   "execution_count": 4,
   "id": "3422d2ea-ff35-454c-9e2a-40aef03513cc",
   "metadata": {},
   "outputs": [
    {
     "data": {
      "text/html": [
       "<div>\n",
       "<style scoped>\n",
       "    .dataframe tbody tr th:only-of-type {\n",
       "        vertical-align: middle;\n",
       "    }\n",
       "\n",
       "    .dataframe tbody tr th {\n",
       "        vertical-align: top;\n",
       "    }\n",
       "\n",
       "    .dataframe thead th {\n",
       "        text-align: right;\n",
       "    }\n",
       "</style>\n",
       "<table border=\"1\" class=\"dataframe\">\n",
       "  <thead>\n",
       "    <tr style=\"text-align: right;\">\n",
       "      <th></th>\n",
       "      <th>Quantity</th>\n",
       "      <th>UnitPrice</th>\n",
       "      <th>CustomerID</th>\n",
       "    </tr>\n",
       "  </thead>\n",
       "  <tbody>\n",
       "    <tr>\n",
       "      <th>count</th>\n",
       "      <td>541909.000000</td>\n",
       "      <td>541909.000000</td>\n",
       "      <td>406829.000000</td>\n",
       "    </tr>\n",
       "    <tr>\n",
       "      <th>mean</th>\n",
       "      <td>9.552250</td>\n",
       "      <td>4.611114</td>\n",
       "      <td>15287.690570</td>\n",
       "    </tr>\n",
       "    <tr>\n",
       "      <th>std</th>\n",
       "      <td>218.081158</td>\n",
       "      <td>96.759853</td>\n",
       "      <td>1713.600303</td>\n",
       "    </tr>\n",
       "    <tr>\n",
       "      <th>min</th>\n",
       "      <td>-80995.000000</td>\n",
       "      <td>-11062.060000</td>\n",
       "      <td>12346.000000</td>\n",
       "    </tr>\n",
       "    <tr>\n",
       "      <th>25%</th>\n",
       "      <td>1.000000</td>\n",
       "      <td>1.250000</td>\n",
       "      <td>13953.000000</td>\n",
       "    </tr>\n",
       "    <tr>\n",
       "      <th>50%</th>\n",
       "      <td>3.000000</td>\n",
       "      <td>2.080000</td>\n",
       "      <td>15152.000000</td>\n",
       "    </tr>\n",
       "    <tr>\n",
       "      <th>75%</th>\n",
       "      <td>10.000000</td>\n",
       "      <td>4.130000</td>\n",
       "      <td>16791.000000</td>\n",
       "    </tr>\n",
       "    <tr>\n",
       "      <th>max</th>\n",
       "      <td>80995.000000</td>\n",
       "      <td>38970.000000</td>\n",
       "      <td>18287.000000</td>\n",
       "    </tr>\n",
       "  </tbody>\n",
       "</table>\n",
       "</div>"
      ],
      "text/plain": [
       "            Quantity      UnitPrice     CustomerID\n",
       "count  541909.000000  541909.000000  406829.000000\n",
       "mean        9.552250       4.611114   15287.690570\n",
       "std       218.081158      96.759853    1713.600303\n",
       "min    -80995.000000  -11062.060000   12346.000000\n",
       "25%         1.000000       1.250000   13953.000000\n",
       "50%         3.000000       2.080000   15152.000000\n",
       "75%        10.000000       4.130000   16791.000000\n",
       "max     80995.000000   38970.000000   18287.000000"
      ]
     },
     "execution_count": 4,
     "metadata": {},
     "output_type": "execute_result"
    }
   ],
   "source": [
    "cust_df.describe()"
   ]
  },
  {
   "cell_type": "markdown",
   "id": "a4f02cc6-4120-4819-9564-59081f3d37d9",
   "metadata": {},
   "source": [
    "### EDA"
   ]
  },
  {
   "cell_type": "markdown",
   "id": "41b80144-7da7-4871-a451-7126289e6eed",
   "metadata": {},
   "source": [
    "check for any missing values "
   ]
  },
  {
   "cell_type": "code",
   "execution_count": 5,
   "id": "73fe517f-4b8a-46aa-a785-9c78d116dd5b",
   "metadata": {},
   "outputs": [
    {
     "data": {
      "text/plain": [
       "(541909, 8)"
      ]
     },
     "execution_count": 5,
     "metadata": {},
     "output_type": "execute_result"
    }
   ],
   "source": [
    "cust_df.shape"
   ]
  },
  {
   "cell_type": "code",
   "execution_count": 6,
   "id": "83382e3d-d0a0-4fdf-b2d8-9348ee1e0352",
   "metadata": {},
   "outputs": [
    {
     "data": {
      "text/plain": [
       "InvoiceNo       0.000000\n",
       "StockCode       0.000000\n",
       "Description     0.268311\n",
       "Quantity        0.000000\n",
       "InvoiceDate     0.000000\n",
       "UnitPrice       0.000000\n",
       "CustomerID     24.926694\n",
       "Country         0.000000\n",
       "dtype: float64"
      ]
     },
     "execution_count": 6,
     "metadata": {},
     "output_type": "execute_result"
    }
   ],
   "source": [
    "cust_df.isna().sum()/cust_df.shape[0]*100"
   ]
  },
  {
   "cell_type": "markdown",
   "id": "7bd06767-b233-4c0b-92f2-e6be67250c35",
   "metadata": {},
   "source": [
    "The <b>CustomerID</b> represents 24.93% of the data. We can drop this column since it is a column that identifies a unique customer."
   ]
  },
  {
   "cell_type": "markdown",
   "id": "a72cd619-4e11-420e-bf3a-76eb5bf545df",
   "metadata": {},
   "source": [
    "## Data manipulation"
   ]
  },
  {
   "cell_type": "markdown",
   "id": "e1f4cec1-a19c-4c75-b7c1-8cf65bf45206",
   "metadata": {},
   "source": [
    "<b>CustomerID</b> is represented as a float but wwe want it to be a string value"
   ]
  },
  {
   "cell_type": "code",
   "execution_count": 7,
   "id": "5ebd3243-8497-4a56-8286-956288203743",
   "metadata": {},
   "outputs": [],
   "source": [
    "cust_df['CustomerID'] = cust_df['CustomerID'].astype(str)"
   ]
  },
  {
   "cell_type": "markdown",
   "id": "1a88859b-6133-44bd-860f-054b9f5dc986",
   "metadata": {},
   "source": [
    "The <b>InvoiceDate</b> is represented as an object but to perform datetime operations on it later we need to convert it into a datetime column"
   ]
  },
  {
   "cell_type": "code",
   "execution_count": 8,
   "id": "66252080-027e-4af1-92c8-739900003fa9",
   "metadata": {},
   "outputs": [],
   "source": [
    "cust_df['InvoiceDate'] = pd.to_datetime(cust_df['InvoiceDate'], format='%d-%m-%Y %H:%M')"
   ]
  },
  {
   "cell_type": "markdown",
   "id": "7d9141b5-6fce-492d-92fb-9042bc8edd64",
   "metadata": {},
   "source": [
    "\n",
    "\n",
    "We are going to use group customers according to:\n",
    "\n",
    "    1. the amount they spent shopping (amount). \n",
    "    2. the number of times they shopped (frequency)\n",
    "    3. how long it has been since their last order (recency)"
   ]
  },
  {
   "cell_type": "markdown",
   "id": "b8577b05-fa80-45a5-b650-1f29fe30c4b8",
   "metadata": {},
   "source": [
    "#### Amount"
   ]
  },
  {
   "cell_type": "code",
   "execution_count": 9,
   "id": "e056d983-48d3-46da-b818-722f6f6acd55",
   "metadata": {},
   "outputs": [],
   "source": [
    "# create a new column Amount by multiplying the unit price of each item by the quantity purchased\n",
    "cust_df['Amount'] = cust_df['Quantity']*cust_df['UnitPrice']\n",
    "# create a new dataframe that represents the total sum used by each customer represented by a unique ID\n",
    "amnt_df = cust_df.groupby('CustomerID')['Amount'].sum().reset_index()"
   ]
  },
  {
   "cell_type": "markdown",
   "id": "2dfa9bc9-e690-4856-a78a-46bf0feac463",
   "metadata": {},
   "source": [
    "#### Frequency"
   ]
  },
  {
   "cell_type": "code",
   "execution_count": 10,
   "id": "52154a80-58db-4c4f-872f-4769c55bf0f8",
   "metadata": {},
   "outputs": [],
   "source": [
    "# for each purchase an invoice is generated. By counting the number of invoices each customer has been \n",
    "# issue then we can determine how many times the customer shopped in the store.\n",
    "#  we then assign this to a new dataframe\n",
    "freq_df = cust_df.groupby('CustomerID')['InvoiceNo'].count().reset_index()"
   ]
  },
  {
   "cell_type": "markdown",
   "id": "61323788-e500-4d3a-acc3-d64fdee34cbb",
   "metadata": {},
   "source": [
    "#### Recency"
   ]
  },
  {
   "cell_type": "code",
   "execution_count": 11,
   "id": "ff7cc3b8-94f9-4cbb-a5c0-e56054e9f0fe",
   "metadata": {},
   "outputs": [],
   "source": [
    "# first we get the most recent date \n",
    "recent_date = cust_df['InvoiceDate'].max()\n",
    "# create a new column \n",
    "cust_df['DaysSinceLastOrder'] = recent_date - cust_df['InvoiceDate']\n",
    "# group the by customerID and get the minimum time for each customer. Assign this to a new dataframe rec_df\n",
    "rec_df = cust_df.groupby('CustomerID')['DaysSinceLastOrder'].min().dt.days.reset_index()"
   ]
  },
  {
   "cell_type": "markdown",
   "id": "581c310c-02f3-4146-9e70-6f03c940852a",
   "metadata": {},
   "source": [
    "Joining the three new dataframes we created on CustomerID to create on dataframe we will use for modelling"
   ]
  },
  {
   "cell_type": "code",
   "execution_count": 12,
   "id": "c7273aeb-8f6b-4187-982b-cbc68c7a0875",
   "metadata": {},
   "outputs": [
    {
     "data": {
      "text/html": [
       "<div>\n",
       "<style scoped>\n",
       "    .dataframe tbody tr th:only-of-type {\n",
       "        vertical-align: middle;\n",
       "    }\n",
       "\n",
       "    .dataframe tbody tr th {\n",
       "        vertical-align: top;\n",
       "    }\n",
       "\n",
       "    .dataframe thead th {\n",
       "        text-align: right;\n",
       "    }\n",
       "</style>\n",
       "<table border=\"1\" class=\"dataframe\">\n",
       "  <thead>\n",
       "    <tr style=\"text-align: right;\">\n",
       "      <th></th>\n",
       "      <th>CustomerID</th>\n",
       "      <th>Amount</th>\n",
       "      <th>Frequency</th>\n",
       "      <th>Recency</th>\n",
       "    </tr>\n",
       "  </thead>\n",
       "  <tbody>\n",
       "    <tr>\n",
       "      <th>0</th>\n",
       "      <td>12346.0</td>\n",
       "      <td>0.00</td>\n",
       "      <td>2</td>\n",
       "      <td>325</td>\n",
       "    </tr>\n",
       "    <tr>\n",
       "      <th>1</th>\n",
       "      <td>12347.0</td>\n",
       "      <td>4310.00</td>\n",
       "      <td>182</td>\n",
       "      <td>1</td>\n",
       "    </tr>\n",
       "    <tr>\n",
       "      <th>2</th>\n",
       "      <td>12348.0</td>\n",
       "      <td>1797.24</td>\n",
       "      <td>31</td>\n",
       "      <td>74</td>\n",
       "    </tr>\n",
       "    <tr>\n",
       "      <th>3</th>\n",
       "      <td>12349.0</td>\n",
       "      <td>1757.55</td>\n",
       "      <td>73</td>\n",
       "      <td>18</td>\n",
       "    </tr>\n",
       "    <tr>\n",
       "      <th>4</th>\n",
       "      <td>12350.0</td>\n",
       "      <td>334.40</td>\n",
       "      <td>17</td>\n",
       "      <td>309</td>\n",
       "    </tr>\n",
       "  </tbody>\n",
       "</table>\n",
       "</div>"
      ],
      "text/plain": [
       "  CustomerID   Amount  Frequency  Recency\n",
       "0    12346.0     0.00          2      325\n",
       "1    12347.0  4310.00        182        1\n",
       "2    12348.0  1797.24         31       74\n",
       "3    12349.0  1757.55         73       18\n",
       "4    12350.0   334.40         17      309"
      ]
     },
     "execution_count": 12,
     "metadata": {},
     "output_type": "execute_result"
    }
   ],
   "source": [
    "amnt_freq_df = pd.merge(amnt_df, freq_df, on='CustomerID', how='inner')\n",
    "cust_model_df = pd.merge(amnt_freq_df, rec_df, on='CustomerID', how='inner')\n",
    "cust_model_df.columns = ['CustomerID','Amount','Frequency','Recency']\n",
    "cust_model_df.head()"
   ]
  },
  {
   "cell_type": "markdown",
   "id": "3b11a69a-5f75-4b26-850b-8a9b46563c8b",
   "metadata": {},
   "source": [
    "#### visualize the data using a boxplot to detect outliers"
   ]
  },
  {
   "cell_type": "code",
   "execution_count": 13,
   "id": "af70ca95-bf74-4d27-9a35-1e6b53302375",
   "metadata": {},
   "outputs": [
    {
     "data": {
      "image/png": "[encoded data removed]",
      "text/plain": [
       "<Figure size 640x480 with 1 Axes>"
      ]
     },
     "metadata": {},
     "output_type": "display_data"
    }
   ],
   "source": [
    "sns.boxplot(data=cust_model_df[['Amount','Frequency','Recency']])\n",
    "plt.title('Outliers')\n",
    "plt.ylabel('range')\n",
    "plt.xlabel('Attributes')\n",
    "plt.show()"
   ]
  },
  {
   "cell_type": "code",
   "execution_count": 14,
   "id": "c431e118-e64a-4f3e-ac64-e0e669a97f61",
   "metadata": {},
   "outputs": [],
   "source": [
    "# from scipy.stats.mstats import winsorize"
   ]
  },
  {
   "cell_type": "code",
   "execution_count": 15,
   "id": "5ab0dcb3-71e7-45ca-aee6-e61414c09af6",
   "metadata": {},
   "outputs": [],
   "source": [
    "cols = ['Amount','Frequency','Recency']\n",
    "# for col in cols:\n",
    "#     cust_model_df[col] = winsorize(cust_model_df[col], limits=[0.15,0.15])"
   ]
  },
  {
   "cell_type": "markdown",
   "id": "70d06cef-9ce5-4091-9d03-2d77849dbc93",
   "metadata": {},
   "source": [
    "\n",
    "Remove **Amount** outliers"
   ]
  },
  {
   "cell_type": "code",
   "execution_count": 16,
   "id": "c0c25cf6-85ce-4588-b34d-9b9c0402db28",
   "metadata": {},
   "outputs": [],
   "source": [
    "Q1 = cust_model_df['Amount'].quantile(0.05)\n",
    "Q3 = cust_model_df['Amount'].quantile(0.95)\n",
    "IQR = Q3 -Q1\n",
    "X = 1.5*IQR\n",
    "cust_model_df = cust_model_df[(cust_model_df['Amount']>=Q1-X) & (cust_model_df['Amount']<=Q3+X)]"
   ]
  },
  {
   "cell_type": "markdown",
   "id": "d01beb1e-d218-4fbe-8c48-bfcb91797ec4",
   "metadata": {},
   "source": [
    "Remove **Frequency** outliers"
   ]
  },
  {
   "cell_type": "code",
   "execution_count": 17,
   "id": "ce210449-88ca-4f6d-93fe-e9b4cc788cd8",
   "metadata": {},
   "outputs": [],
   "source": [
    "Q1 = cust_model_df['Frequency'].quantile(0.05)\n",
    "Q3 = cust_model_df['Frequency'].quantile(0.95)\n",
    "IQR = Q3 -Q1\n",
    "X = 1.5*IQR\n",
    "cust_model_df = cust_model_df[(cust_model_df['Frequency']>=Q1-X) & (cust_model_df['Frequency']<=Q3+X)]"
   ]
  },
  {
   "cell_type": "markdown",
   "id": "55d2d6a4-a07a-485d-b5ed-5100e594e768",
   "metadata": {},
   "source": [
    "Remove **Recency** outliers"
   ]
  },
  {
   "cell_type": "code",
   "execution_count": 18,
   "id": "e40e0715-7c4e-423f-aa45-2332ca1e03ae",
   "metadata": {},
   "outputs": [],
   "source": [
    "Q1 = cust_model_df['Recency'].quantile(0.05)\n",
    "Q3 = cust_model_df['Recency'].quantile(0.95)\n",
    "IQR = Q3 -Q1\n",
    "X = 1.5*IQR\n",
    "cust_model_df = cust_model_df[(cust_model_df['Recency']>=Q1-X) & (cust_model_df['Recency']<=Q3+X)]"
   ]
  },
  {
   "cell_type": "code",
   "execution_count": 19,
   "id": "3bcb84aa-0d1d-4a90-8bf9-dbd31d7d50ce",
   "metadata": {},
   "outputs": [
    {
     "data": {
      "image/png": "[encoded data removed]",
      "text/plain": [
       "<Figure size 640x480 with 1 Axes>"
      ]
     },
     "metadata": {},
     "output_type": "display_data"
    }
   ],
   "source": [
    "sns.boxplot(data=cust_model_df[['Amount','Frequency','Recency']])\n",
    "plt.title('Outliers')\n",
    "plt.ylabel('range')\n",
    "plt.xlabel('Attributes')\n",
    "plt.show()"
   ]
  },
  {
   "cell_type": "code",
   "execution_count": 20,
   "id": "8eaa20ce-5e25-4d05-be0e-1fdb04aafae9",
   "metadata": {},
   "outputs": [
    {
     "data": {
      "text/plain": [
       "(4294, 4)"
      ]
     },
     "execution_count": 20,
     "metadata": {},
     "output_type": "execute_result"
    }
   ],
   "source": [
    "cust_model_df.shape"
   ]
  },
  {
   "cell_type": "markdown",
   "id": "2b9066f2-8eea-40ca-9c61-f1f252745c80",
   "metadata": {},
   "source": [
    "#### Scaling dataset"
   ]
  },
  {
   "cell_type": "code",
   "execution_count": 21,
   "id": "d64997d1-6fdb-4d5c-8d35-53ff14daddcc",
   "metadata": {},
   "outputs": [],
   "source": [
    "from sklearn.preprocessing import StandardScaler"
   ]
  },
  {
   "cell_type": "code",
   "execution_count": 22,
   "id": "467298bf-c451-4863-a496-bcb0f0ca7947",
   "metadata": {},
   "outputs": [
    {
     "name": "stdout",
     "output_type": "stream",
     "text": [
      "(4294, 3)\n"
     ]
    },
    {
     "data": {
      "text/html": [
       "<div>\n",
       "<style scoped>\n",
       "    .dataframe tbody tr th:only-of-type {\n",
       "        vertical-align: middle;\n",
       "    }\n",
       "\n",
       "    .dataframe tbody tr th {\n",
       "        vertical-align: top;\n",
       "    }\n",
       "\n",
       "    .dataframe thead th {\n",
       "        text-align: right;\n",
       "    }\n",
       "</style>\n",
       "<table border=\"1\" class=\"dataframe\">\n",
       "  <thead>\n",
       "    <tr style=\"text-align: right;\">\n",
       "      <th></th>\n",
       "      <th>Amount</th>\n",
       "      <th>Frequency</th>\n",
       "      <th>Recency</th>\n",
       "    </tr>\n",
       "  </thead>\n",
       "  <tbody>\n",
       "    <tr>\n",
       "      <th>0</th>\n",
       "      <td>-0.721139</td>\n",
       "      <td>-0.753083</td>\n",
       "      <td>2.301868</td>\n",
       "    </tr>\n",
       "    <tr>\n",
       "      <th>1</th>\n",
       "      <td>1.719726</td>\n",
       "      <td>1.041594</td>\n",
       "      <td>-0.906269</td>\n",
       "    </tr>\n",
       "    <tr>\n",
       "      <th>2</th>\n",
       "      <td>0.296685</td>\n",
       "      <td>-0.463941</td>\n",
       "      <td>-0.183448</td>\n",
       "    </tr>\n",
       "    <tr>\n",
       "      <th>3</th>\n",
       "      <td>0.274207</td>\n",
       "      <td>-0.045183</td>\n",
       "      <td>-0.737941</td>\n",
       "    </tr>\n",
       "    <tr>\n",
       "      <th>4</th>\n",
       "      <td>-0.531759</td>\n",
       "      <td>-0.603527</td>\n",
       "      <td>2.143441</td>\n",
       "    </tr>\n",
       "  </tbody>\n",
       "</table>\n",
       "</div>"
      ],
      "text/plain": [
       "     Amount  Frequency   Recency\n",
       "0 -0.721139  -0.753083  2.301868\n",
       "1  1.719726   1.041594 -0.906269\n",
       "2  0.296685  -0.463941 -0.183448\n",
       "3  0.274207  -0.045183 -0.737941\n",
       "4 -0.531759  -0.603527  2.143441"
      ]
     },
     "execution_count": 22,
     "metadata": {},
     "output_type": "execute_result"
    }
   ],
   "source": [
    "scaler = StandardScaler()\n",
    "cust_model_df =  cust_model_df[cols]\n",
    "for col in cols:\n",
    "    cust_model_df[col] = scaler.fit_transform(cust_model_df[[col]])\n",
    "print(cust_model_df.shape)\n",
    "cust_model_df.head()"
   ]
  },
  {
   "cell_type": "markdown",
   "id": "87985193-4c71-49a5-a189-1796587bdbb6",
   "metadata": {},
   "source": [
    "## model"
   ]
  },
  {
   "cell_type": "code",
   "execution_count": 23,
   "id": "52626b97-7bf7-44ae-bfd8-a24503f581bb",
   "metadata": {},
   "outputs": [],
   "source": [
    "from sklearn.cluster import KMeans"
   ]
  },
  {
   "cell_type": "markdown",
   "id": "edbbfa4a-65df-4521-84be-918ba2d5c8fc",
   "metadata": {},
   "source": [
    "Finding the best possible value of K using the elbow method"
   ]
  },
  {
   "cell_type": "code",
   "execution_count": 24,
   "id": "2c3cfa67-a996-4b33-9282-fee8ea835246",
   "metadata": {},
   "outputs": [
    {
     "data": {
      "image/png": "[encoded data removed]",
      "text/plain": [
       "<Figure size 640x480 with 1 Axes>"
      ]
     },
     "metadata": {},
     "output_type": "display_data"
    }
   ],
   "source": [
    "ssd = []\n",
    "for i in range(1,15):\n",
    "    kmeans = KMeans(n_clusters=i,random_state=42,n_init='auto')\n",
    "    kmeans.fit(cust_model_df)\n",
    "    ssd.append(kmeans.inertia_)\n",
    "\n",
    "plt.plot(ssd)\n",
    "plt.grid()\n",
    "plt.show()"
   ]
  },
  {
   "cell_type": "markdown",
   "id": "37d15ddd-ee9c-4984-a3f8-ac0977262917",
   "metadata": {},
   "source": [
    "From the graph above we can choose **3** as the optimal value for k"
   ]
  },
  {
   "cell_type": "code",
   "execution_count": 25,
   "id": "8b33ef58-ea45-4583-89a1-88046c25799d",
   "metadata": {},
   "outputs": [
    {
     "data": {
      "text/html": [
       "<style>#sk-container-id-1 {color: black;}#sk-container-id-1 pre{padding: 0;}#sk-container-id-1 div.sk-toggleable {background-color: white;}#sk-container-id-1 label.sk-toggleable__label {cursor: pointer;display: block;width: 100%;margin-bottom: 0;padding: 0.3em;box-sizing: border-box;text-align: center;}#sk-container-id-1 label.sk-toggleable__label-arrow:before {content: \"▸\";float: left;margin-right: 0.25em;color: #696969;}#sk-container-id-1 label.sk-toggleable__label-arrow:hover:before {color: black;}#sk-container-id-1 div.sk-estimator:hover label.sk-toggleable__label-arrow:before {color: black;}#sk-container-id-1 div.sk-toggleable__content {max-height: 0;max-width: 0;overflow: hidden;text-align: left;background-color: #f0f8ff;}#sk-container-id-1 div.sk-toggleable__content pre {margin: 0.2em;color: black;border-radius: 0.25em;background-color: #f0f8ff;}#sk-container-id-1 input.sk-toggleable__control:checked~div.sk-toggleable__content {max-height: 200px;max-width: 100%;overflow: auto;}#sk-container-id-1 input.sk-toggleable__control:checked~label.sk-toggleable__label-arrow:before {content: \"▾\";}#sk-container-id-1 div.sk-estimator input.sk-toggleable__control:checked~label.sk-toggleable__label {background-color: #d4ebff;}#sk-container-id-1 div.sk-label input.sk-toggleable__control:checked~label.sk-toggleable__label {background-color: #d4ebff;}#sk-container-id-1 input.sk-hidden--visually {border: 0;clip: rect(1px 1px 1px 1px);clip: rect(1px, 1px, 1px, 1px);height: 1px;margin: -1px;overflow: hidden;padding: 0;position: absolute;width: 1px;}#sk-container-id-1 div.sk-estimator {font-family: monospace;background-color: #f0f8ff;border: 1px dotted black;border-radius: 0.25em;box-sizing: border-box;margin-bottom: 0.5em;}#sk-container-id-1 div.sk-estimator:hover {background-color: #d4ebff;}#sk-container-id-1 div.sk-parallel-item::after {content: \"\";width: 100%;border-bottom: 1px solid gray;flex-grow: 1;}#sk-container-id-1 div.sk-label:hover label.sk-toggleable__label {background-color: #d4ebff;}#sk-container-id-1 div.sk-serial::before {content: \"\";position: absolute;border-left: 1px solid gray;box-sizing: border-box;top: 0;bottom: 0;left: 50%;z-index: 0;}#sk-container-id-1 div.sk-serial {display: flex;flex-direction: column;align-items: center;background-color: white;padding-right: 0.2em;padding-left: 0.2em;position: relative;}#sk-container-id-1 div.sk-item {position: relative;z-index: 1;}#sk-container-id-1 div.sk-parallel {display: flex;align-items: stretch;justify-content: center;background-color: white;position: relative;}#sk-container-id-1 div.sk-item::before, #sk-container-id-1 div.sk-parallel-item::before {content: \"\";position: absolute;border-left: 1px solid gray;box-sizing: border-box;top: 0;bottom: 0;left: 50%;z-index: -1;}#sk-container-id-1 div.sk-parallel-item {display: flex;flex-direction: column;z-index: 1;position: relative;background-color: white;}#sk-container-id-1 div.sk-parallel-item:first-child::after {align-self: flex-end;width: 50%;}#sk-container-id-1 div.sk-parallel-item:last-child::after {align-self: flex-start;width: 50%;}#sk-container-id-1 div.sk-parallel-item:only-child::after {width: 0;}#sk-container-id-1 div.sk-dashed-wrapped {border: 1px dashed gray;margin: 0 0.4em 0.5em 0.4em;box-sizing: border-box;padding-bottom: 0.4em;background-color: white;}#sk-container-id-1 div.sk-label label {font-family: monospace;font-weight: bold;display: inline-block;line-height: 1.2em;}#sk-container-id-1 div.sk-label-container {text-align: center;}#sk-container-id-1 div.sk-container {/* jupyter's `normalize.less` sets `[hidden] { display: none; }` but bootstrap.min.css set `[hidden] { display: none !important; }` so we also need the `!important` here to be able to override the default hidden behavior on the sphinx rendered scikit-learn.org. See: https://github.com/scikit-learn/scikit-learn/issues/21755 */display: inline-block !important;position: relative;}#sk-container-id-1 div.sk-text-repr-fallback {display: none;}</style><div id=\"sk-container-id-1\" class=\"sk-top-container\"><div class=\"sk-text-repr-fallback\"><pre>KMeans(n_clusters=3, n_init=&#x27;auto&#x27;)</pre><b>In a Jupyter environment, please rerun this cell to show the HTML representation or trust the notebook. <br />On GitHub, the HTML representation is unable to render, please try loading this page with nbviewer.org.</b></div><div class=\"sk-container\" hidden><div class=\"sk-item\"><div class=\"sk-estimator sk-toggleable\"><input class=\"sk-toggleable__control sk-hidden--visually\" id=\"sk-estimator-id-1\" type=\"checkbox\" checked><label for=\"sk-estimator-id-1\" class=\"sk-toggleable__label sk-toggleable__label-arrow\">KMeans</label><div class=\"sk-toggleable__content\"><pre>KMeans(n_clusters=3, n_init=&#x27;auto&#x27;)</pre></div></div></div></div></div>"
      ],
      "text/plain": [
       "KMeans(n_clusters=3, n_init='auto')"
      ]
     },
     "execution_count": 25,
     "metadata": {},
     "output_type": "execute_result"
    }
   ],
   "source": [
    "kmeans = KMeans(n_clusters=3, n_init='auto')\n",
    "kmeans.fit(cust_model_df[cols])"
   ]
  },
  {
   "cell_type": "code",
   "execution_count": 26,
   "id": "cb24305b-815f-4266-bc2d-2576b5bd5e36",
   "metadata": {},
   "outputs": [
    {
     "data": {
      "text/plain": [
       "array([1, 0, 2, ..., 1, 2, 2], dtype=int32)"
      ]
     },
     "execution_count": 26,
     "metadata": {},
     "output_type": "execute_result"
    }
   ],
   "source": [
    "kmeans.labels_"
   ]
  },
  {
   "cell_type": "code",
   "execution_count": 27,
   "id": "711a391e-ea15-499e-88b2-c5569ecf855c",
   "metadata": {},
   "outputs": [
    {
     "data": {
      "text/html": [
       "<div>\n",
       "<style scoped>\n",
       "    .dataframe tbody tr th:only-of-type {\n",
       "        vertical-align: middle;\n",
       "    }\n",
       "\n",
       "    .dataframe tbody tr th {\n",
       "        vertical-align: top;\n",
       "    }\n",
       "\n",
       "    .dataframe thead th {\n",
       "        text-align: right;\n",
       "    }\n",
       "</style>\n",
       "<table border=\"1\" class=\"dataframe\">\n",
       "  <thead>\n",
       "    <tr style=\"text-align: right;\">\n",
       "      <th></th>\n",
       "      <th>Amount</th>\n",
       "      <th>Frequency</th>\n",
       "      <th>Recency</th>\n",
       "      <th>Label</th>\n",
       "    </tr>\n",
       "  </thead>\n",
       "  <tbody>\n",
       "    <tr>\n",
       "      <th>0</th>\n",
       "      <td>-0.721139</td>\n",
       "      <td>-0.753083</td>\n",
       "      <td>2.301868</td>\n",
       "      <td>1</td>\n",
       "    </tr>\n",
       "    <tr>\n",
       "      <th>1</th>\n",
       "      <td>1.719726</td>\n",
       "      <td>1.041594</td>\n",
       "      <td>-0.906269</td>\n",
       "      <td>0</td>\n",
       "    </tr>\n",
       "    <tr>\n",
       "      <th>2</th>\n",
       "      <td>0.296685</td>\n",
       "      <td>-0.463941</td>\n",
       "      <td>-0.183448</td>\n",
       "      <td>2</td>\n",
       "    </tr>\n",
       "    <tr>\n",
       "      <th>3</th>\n",
       "      <td>0.274207</td>\n",
       "      <td>-0.045183</td>\n",
       "      <td>-0.737941</td>\n",
       "      <td>2</td>\n",
       "    </tr>\n",
       "    <tr>\n",
       "      <th>4</th>\n",
       "      <td>-0.531759</td>\n",
       "      <td>-0.603527</td>\n",
       "      <td>2.143441</td>\n",
       "      <td>1</td>\n",
       "    </tr>\n",
       "    <tr>\n",
       "      <th>...</th>\n",
       "      <td>...</td>\n",
       "      <td>...</td>\n",
       "      <td>...</td>\n",
       "      <td>...</td>\n",
       "    </tr>\n",
       "    <tr>\n",
       "      <th>4366</th>\n",
       "      <td>-0.622655</td>\n",
       "      <td>-0.683290</td>\n",
       "      <td>-0.193350</td>\n",
       "      <td>2</td>\n",
       "    </tr>\n",
       "    <tr>\n",
       "      <th>4367</th>\n",
       "      <td>-0.618860</td>\n",
       "      <td>-0.673320</td>\n",
       "      <td>1.826588</td>\n",
       "      <td>1</td>\n",
       "    </tr>\n",
       "    <tr>\n",
       "      <th>4368</th>\n",
       "      <td>-0.675368</td>\n",
       "      <td>-0.703231</td>\n",
       "      <td>0.866128</td>\n",
       "      <td>1</td>\n",
       "    </tr>\n",
       "    <tr>\n",
       "      <th>4369</th>\n",
       "      <td>-0.621126</td>\n",
       "      <td>-0.643408</td>\n",
       "      <td>-0.846859</td>\n",
       "      <td>2</td>\n",
       "    </tr>\n",
       "    <tr>\n",
       "      <th>4371</th>\n",
       "      <td>0.319361</td>\n",
       "      <td>-0.075094</td>\n",
       "      <td>-0.500301</td>\n",
       "      <td>2</td>\n",
       "    </tr>\n",
       "  </tbody>\n",
       "</table>\n",
       "<p>4294 rows × 4 columns</p>\n",
       "</div>"
      ],
      "text/plain": [
       "        Amount  Frequency   Recency  Label\n",
       "0    -0.721139  -0.753083  2.301868      1\n",
       "1     1.719726   1.041594 -0.906269      0\n",
       "2     0.296685  -0.463941 -0.183448      2\n",
       "3     0.274207  -0.045183 -0.737941      2\n",
       "4    -0.531759  -0.603527  2.143441      1\n",
       "...        ...        ...       ...    ...\n",
       "4366 -0.622655  -0.683290 -0.193350      2\n",
       "4367 -0.618860  -0.673320  1.826588      1\n",
       "4368 -0.675368  -0.703231  0.866128      1\n",
       "4369 -0.621126  -0.643408 -0.846859      2\n",
       "4371  0.319361  -0.075094 -0.500301      2\n",
       "\n",
       "[4294 rows x 4 columns]"
      ]
     },
     "execution_count": 27,
     "metadata": {},
     "output_type": "execute_result"
    }
   ],
   "source": [
    "cust_model_df['Label'] = kmeans.labels_\n",
    "cust_model_df"
   ]
  },
  {
   "cell_type": "code",
   "execution_count": 28,
   "id": "49cfc0ca-b810-4bdd-a9e9-d94c6bbf5536",
   "metadata": {},
   "outputs": [
    {
     "data": {
      "text/plain": [
       "<Axes: xlabel='Label', ylabel='Amount'>"
      ]
     },
     "execution_count": 28,
     "metadata": {},
     "output_type": "execute_result"
    },
    {
     "data": {
      "image/png": "[encoded data removed]",
      "text/plain": [
       "<Figure size 640x480 with 1 Axes>"
      ]
     },
     "metadata": {},
     "output_type": "display_data"
    }
   ],
   "source": [
    "sns.boxplot(x='Label', y='Amount', data=cust_model_df)"
   ]
  },
  {
   "cell_type": "code",
   "execution_count": 29,
   "id": "67ccaa5f-2f25-43ad-ae23-9d640eff05c3",
   "metadata": {},
   "outputs": [
    {
     "data": {
      "text/plain": [
       "<Axes: xlabel='Label', ylabel='Frequency'>"
      ]
     },
     "execution_count": 29,
     "metadata": {},
     "output_type": "execute_result"
    },
    {
     "data": {
      "image/png": "[encoded data removed]",
      "text/plain": [
       "<Figure size 640x480 with 1 Axes>"
      ]
     },
     "metadata": {},
     "output_type": "display_data"
    }
   ],
   "source": [
    "sns.boxplot(x='Label', y='Frequency', data=cust_model_df)"
   ]
  },
  {
   "cell_type": "code",
   "execution_count": 30,
   "id": "85500a9b-8453-4b33-8d91-c370d65cabc9",
   "metadata": {},
   "outputs": [
    {
     "data": {
      "text/plain": [
       "<Axes: xlabel='Label', ylabel='Recency'>"
      ]
     },
     "execution_count": 30,
     "metadata": {},
     "output_type": "execute_result"
    },
    {
     "data": {
      "image/png": "[encoded data removed]",
      "text/plain": [
       "<Figure size 640x480 with 1 Axes>"
      ]
     },
     "metadata": {},
     "output_type": "display_data"
    }
   ],
   "source": [
    "sns.boxplot(x='Label', y='Recency', data=cust_model_df)"
   ]
  },
  {
   "cell_type": "code",
   "execution_count": null,
   "id": "65109d7f-82e1-456b-9dc1-a96b99940dbb",
   "metadata": {},
   "outputs": [],
   "source": []
  }
 ],
 "metadata": {
  "kernelspec": {
   "display_name": "Python 3 (ipykernel)",
   "language": "python",
   "name": "python3"
  },
  "language_info": {
   "codemirror_mode": {
    "name": "ipython",
    "version": 3
   },
   "file_extension": ".py",
   "mimetype": "text/x-python",
   "name": "python",
   "nbconvert_exporter": "python",
   "pygments_lexer": "ipython3",
   "version": "3.10.12"
  }
 },
 "nbformat": 4,
 "nbformat_minor": 5
}
